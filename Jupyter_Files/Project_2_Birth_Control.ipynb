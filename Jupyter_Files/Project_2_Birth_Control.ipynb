{
 "cells": [
  {
   "cell_type": "code",
   "execution_count": 18,
   "metadata": {},
   "outputs": [],
   "source": [
    "# Dependencies\n",
    "from bs4 import BeautifulSoup\n",
    "import requests\n",
    "from splinter import Browser\n",
    "import pandas as pd\n",
    "import time\n",
    "import re\n",
    "from sqlalchemy import create_engine\n",
    "from sqlalchemy.ext.declarative import declarative_base\n",
    "from sqlalchemy import Column, Integer, String, Float\n",
    "Base = declarative_base()\n",
    "import pymysql\n",
    "pymysql.install_as_MySQLdb()\n",
    "import numpy as np\n",
    "\n",
    "# Set path \n",
    "import sys\n",
    "sys.path.append('../')\n",
    "\n",
    "# Config variables\n",
    "from config import remote_db_endpoint, remote_db_port\n",
    "from config import remote_gwsis_dbname, remote_gwsis_dbuser, remote_gwsis_dbpwd\n",
    "from config import local_gwsis_dbname, local_gwsis_dbuser, local_gwsis_dbpwd "
   ]
  },
  {
   "cell_type": "markdown",
   "metadata": {},
   "source": [
    "Create local and remote engines and pass in MySQL connection (you will need to enter your own local information)"
   ]
  },
  {
   "cell_type": "code",
   "execution_count": 19,
   "metadata": {},
   "outputs": [],
   "source": [
    "# AWS Database Connection\n",
    "engine = create_engine(f\"mysql://{remote_gwsis_dbuser}:{remote_gwsis_dbpwd}@{remote_db_endpoint}:{remote_db_port}/{remote_gwsis_dbname}\")"
   ]
  },
  {
   "cell_type": "code",
   "execution_count": 20,
   "metadata": {},
   "outputs": [],
   "source": [
    "# Create a remote database engine connection\n",
    "conn = engine.connect()"
   ]
  },
  {
   "cell_type": "code",
   "execution_count": 21,
   "metadata": {
    "scrolled": true
   },
   "outputs": [],
   "source": [
    "# Use Splinter to initiate browser\n",
    "executable_path = {'executable_path': 'chromedriver.exe'}\n",
    "browser = Browser('chrome', **executable_path, headless=False)"
   ]
  },
  {
   "cell_type": "markdown",
   "metadata": {},
   "source": [
    "Looking at the following brands/types of birth control\n",
    "* Shot: Depo-provera\n",
    "* Hormonal IUD: Mirena\n",
    "* Non-hormonal IUD: ParaGard (reviews not available)\n",
    "* Ring: Nuvaring\n",
    "* Combination pill: Ortho Tri-Cyclen\n",
    "* Progestin pill: Norethindrone\n",
    "* Implant: Nexplanon (formerly implanon)\n",
    "* Patch: Xulane"
   ]
  },
  {
   "cell_type": "code",
   "execution_count": 22,
   "metadata": {},
   "outputs": [],
   "source": [
    "#These are the birth controls we will look at\n",
    "types_list = ['depo-provera','mirena','nuvaring','ortho-tri-cyclen','norethindrone','nexplanon','xulane']"
   ]
  },
  {
   "cell_type": "markdown",
   "metadata": {},
   "source": [
    "Scrape all the reiviews from [Everyday Health](https://www.everydayhealth.com/drugs/) for each of the birth control types. This may take several minutes!"
   ]
  },
  {
   "cell_type": "code",
   "execution_count": 23,
   "metadata": {},
   "outputs": [
    {
     "name": "stdout",
     "output_type": "stream",
     "text": [
      "Scraping Complete\n",
      "Scraping Complete\n",
      "Scraping Complete\n",
      "Scraping Complete\n",
      "Scraping Complete\n",
      "Scraping Complete\n",
      "Scraping Complete\n"
     ]
    }
   ],
   "source": [
    "bc_type = []\n",
    "review_text = []\n",
    "stars = []\n",
    "use_case = []\n",
    "publish_date = []\n",
    "\n",
    "for t in types_list:\n",
    "    # URL of page to be scraped\n",
    "    url = f'https://www.everydayhealth.com/drugs/{t}/reviews'\n",
    "    browser.visit(url)\n",
    "    \n",
    "    html = browser.html\n",
    "    soup = BeautifulSoup(html, 'html.parser')  \n",
    "\n",
    "    # Use Splinter to dynamically find the number of pages of reviews\n",
    "    results = soup.find('div', class_='review-pagination')\n",
    "\n",
    "    pages = results.text\n",
    "    max_pages = re.search(r'1 of (.*?) Next', pages).group(1)\n",
    "    max_pages = int(max_pages)\n",
    "    i = max_pages + 1\n",
    "    \n",
    "    # Use Splinter to click through each page of reviews and scrape the data\n",
    "    for x in range(1, i):\n",
    "\n",
    "        html = browser.html\n",
    "        soup = BeautifulSoup(html, 'html.parser')\n",
    "\n",
    "        # Retrieve the parent divs for all reviews\n",
    "        results = soup.find_all('div', class_='review-container')\n",
    "\n",
    "        # Loop through results to retrieve review details\n",
    "        for result in results:\n",
    "            body = result.p.text\n",
    "            rating = result.find('div', class_=\"star-rating-print\").text[0]\n",
    "            bc = result.h3.span.text\n",
    "            date = result.find('span', class_=\"time\")['content']\n",
    "            my_use = result.h3.text\n",
    "            my_use_normalized = re.search(r'for (.*?)Report', my_use).group(1)\n",
    "\n",
    "            bc_type.append(bc)\n",
    "            review_text.append(body)\n",
    "            stars.append(rating)\n",
    "            use_case.append(my_use_normalized)\n",
    "            publish_date.append(date)    \n",
    "\n",
    "        try:\n",
    "            browser.click_link_by_partial_text('Next')\n",
    "\n",
    "            time.sleep(1)\n",
    "\n",
    "        except:\n",
    "            print(\"Scraping Complete\")"
   ]
  },
  {
   "cell_type": "markdown",
   "metadata": {},
   "source": [
    "Check how many reviews we collected, and put them into a DataFrame"
   ]
  },
  {
   "cell_type": "code",
   "execution_count": 24,
   "metadata": {},
   "outputs": [
    {
     "data": {
      "text/plain": [
       "2897"
      ]
     },
     "execution_count": 24,
     "metadata": {},
     "output_type": "execute_result"
    }
   ],
   "source": [
    "len(stars)"
   ]
  },
  {
   "cell_type": "code",
   "execution_count": 25,
   "metadata": {},
   "outputs": [],
   "source": [
    "bc_df = pd.DataFrame({\n",
    "    'Birth Control': bc_type,\n",
    "    'Star Rating': stars,\n",
    "    'Review': review_text,\n",
    "    'Use': use_case,\n",
    "    'Publish Date': publish_date\n",
    "    })"
   ]
  },
  {
   "cell_type": "markdown",
   "metadata": {},
   "source": [
    "Use VADER sentiment analysis to analyze the review text for each review. How do women feel about their birth control?"
   ]
  },
  {
   "cell_type": "code",
   "execution_count": 26,
   "metadata": {},
   "outputs": [],
   "source": [
    "# Import and Initialize Sentiment Analyzer\n",
    "from vaderSentiment.vaderSentiment import SentimentIntensityAnalyzer\n",
    "analyzer = SentimentIntensityAnalyzer()"
   ]
  },
  {
   "cell_type": "code",
   "execution_count": 27,
   "metadata": {},
   "outputs": [],
   "source": [
    "# Variables for holding sentiments\n",
    "compound_list = []\n",
    "positive_list = []\n",
    "negative_list = []\n",
    "neutral_list = []\n",
    "\n",
    "for review in bc_df['Review']:\n",
    "\n",
    "    # Run Vader Analysis on each review\n",
    "    results = analyzer.polarity_scores(review)\n",
    "    compound = results[\"compound\"]\n",
    "    pos = results[\"pos\"]\n",
    "    neu = results[\"neu\"]\n",
    "    neg = results[\"neg\"]\n",
    "\n",
    "    # Add each value to the appropriate list\n",
    "    compound_list.append(compound)\n",
    "    positive_list.append(pos)\n",
    "    negative_list.append(neg)\n",
    "    neutral_list.append(neu)"
   ]
  },
  {
   "cell_type": "markdown",
   "metadata": {},
   "source": [
    "Store it all in a DataFrame and add original data source and birth control type."
   ]
  },
  {
   "cell_type": "code",
   "execution_count": 32,
   "metadata": {},
   "outputs": [],
   "source": [
    "# Store it all in a DataFrame\n",
    "bc_df = pd.DataFrame({\n",
    "    'Birth_Control': bc_type,\n",
    "    'Star_Rating': stars,\n",
    "    'Review': review_text,\n",
    "    'Use': use_case,\n",
    "    'Publish_Date': publish_date,\n",
    "    'Compound': compound_list,\n",
    "    'Positive': positive_list,\n",
    "    'Negative': negative_list,\n",
    "    'Neutral': neutral_list, \n",
    "    'Source' : 'Everyday Health'\n",
    "    })\n"
   ]
  },
  {
   "cell_type": "code",
   "execution_count": 33,
   "metadata": {},
   "outputs": [],
   "source": [
    "# Clean up date\n",
    "bc_df['Publish_Date'] = [date[:-11] for date in bc_df['Publish_Date']]"
   ]
  },
  {
   "cell_type": "code",
   "execution_count": 34,
   "metadata": {
    "scrolled": true
   },
   "outputs": [],
   "source": [
    "# Create a dataframe showing averages for each type of birth control\n",
    "depo_df = bc_df.loc[bc_df['Birth_Control'] == 'Depo-Provera']\n",
    "mirena_df = bc_df.loc[bc_df['Birth_Control'] == 'Mirena']\n",
    "implanon_df = bc_df.loc[bc_df['Birth_Control'] == 'Implanon']\n",
    "norethindrone_df = bc_df.loc[bc_df['Birth_Control'] == 'Norethindrone']\n",
    "nuvaring_df = bc_df.loc[bc_df['Birth_Control'] == 'NuvaRing']\n",
    "xulane_df = bc_df.loc[bc_df['Birth_Control'] == 'Xulane']\n",
    "combo_df = bc_df.loc[bc_df['Birth_Control'] == 'Ortho Tri-Cyclen']"
   ]
  },
  {
   "cell_type": "code",
   "execution_count": 35,
   "metadata": {},
   "outputs": [],
   "source": [
    "# Classify each type of birth control\n",
    "for index, row in bc_df.iterrows():\n",
    "    if row['Birth_Control'] == 'Depo-Provera':\n",
    "        bc_df.loc[index,\"Method\"] = 'Shot'\n",
    "    elif row['Birth_Control'] == 'Mirena':\n",
    "        bc_df.loc[index,\"Method\"] = 'Hormonal IUD'\n",
    "    elif row['Birth_Control'] == 'Implanon':\n",
    "        bc_df.loc[index,\"Method\"] = 'Implant'\n",
    "    elif row['Birth_Control'] == 'Norethindrone':\n",
    "        bc_df.loc[index,\"Method\"] = 'Progestin Pill'\n",
    "    elif row['Birth_Control'] == 'NuvaRing':\n",
    "        bc_df.loc[index,\"Method\"] = 'Ring'\n",
    "    elif row['Birth_Control'] == 'Xulane':\n",
    "        bc_df.loc[index,\"Method\"] = 'Patch'\n",
    "    elif row['Birth_Control'] == 'Ortho Tri-Cyclen':\n",
    "        bc_df.loc[index,\"Method\"] = 'Combination Pill'"
   ]
  },
  {
   "cell_type": "code",
   "execution_count": 36,
   "metadata": {},
   "outputs": [
    {
     "data": {
      "text/html": [
       "<div>\n",
       "<style scoped>\n",
       "    .dataframe tbody tr th:only-of-type {\n",
       "        vertical-align: middle;\n",
       "    }\n",
       "\n",
       "    .dataframe tbody tr th {\n",
       "        vertical-align: top;\n",
       "    }\n",
       "\n",
       "    .dataframe thead th {\n",
       "        text-align: right;\n",
       "    }\n",
       "</style>\n",
       "<table border=\"1\" class=\"dataframe\">\n",
       "  <thead>\n",
       "    <tr style=\"text-align: right;\">\n",
       "      <th></th>\n",
       "      <th>Star_Rating</th>\n",
       "      <th>Compound</th>\n",
       "      <th>Positive</th>\n",
       "      <th>Negative</th>\n",
       "      <th>Neutral</th>\n",
       "    </tr>\n",
       "    <tr>\n",
       "      <th>Birth_Control</th>\n",
       "      <th></th>\n",
       "      <th></th>\n",
       "      <th></th>\n",
       "      <th></th>\n",
       "      <th></th>\n",
       "    </tr>\n",
       "  </thead>\n",
       "  <tbody>\n",
       "    <tr>\n",
       "      <th>Depo-Provera</th>\n",
       "      <td>2.191257</td>\n",
       "      <td>-0.301481</td>\n",
       "      <td>0.092552</td>\n",
       "      <td>0.141929</td>\n",
       "      <td>0.750486</td>\n",
       "    </tr>\n",
       "    <tr>\n",
       "      <th>Implanon</th>\n",
       "      <td>2.611465</td>\n",
       "      <td>-0.154153</td>\n",
       "      <td>0.100624</td>\n",
       "      <td>0.126701</td>\n",
       "      <td>0.753548</td>\n",
       "    </tr>\n",
       "    <tr>\n",
       "      <th>Mirena</th>\n",
       "      <td>3.312457</td>\n",
       "      <td>-0.096095</td>\n",
       "      <td>0.103759</td>\n",
       "      <td>0.119281</td>\n",
       "      <td>0.768724</td>\n",
       "    </tr>\n",
       "    <tr>\n",
       "      <th>Norethindrone</th>\n",
       "      <td>2.286408</td>\n",
       "      <td>-0.349432</td>\n",
       "      <td>0.075330</td>\n",
       "      <td>0.137549</td>\n",
       "      <td>0.767704</td>\n",
       "    </tr>\n",
       "    <tr>\n",
       "      <th>NuvaRing</th>\n",
       "      <td>2.975610</td>\n",
       "      <td>-0.039855</td>\n",
       "      <td>0.103268</td>\n",
       "      <td>0.116976</td>\n",
       "      <td>0.771618</td>\n",
       "    </tr>\n",
       "    <tr>\n",
       "      <th>Ortho Tri-Cyclen</th>\n",
       "      <td>3.108696</td>\n",
       "      <td>-0.076774</td>\n",
       "      <td>0.104022</td>\n",
       "      <td>0.111804</td>\n",
       "      <td>0.762424</td>\n",
       "    </tr>\n",
       "    <tr>\n",
       "      <th>Xulane</th>\n",
       "      <td>3.238806</td>\n",
       "      <td>-0.013804</td>\n",
       "      <td>0.102843</td>\n",
       "      <td>0.107440</td>\n",
       "      <td>0.759866</td>\n",
       "    </tr>\n",
       "  </tbody>\n",
       "</table>\n",
       "</div>"
      ],
      "text/plain": [
       "                  Star_Rating  Compound  Positive  Negative   Neutral\n",
       "Birth_Control                                                        \n",
       "Depo-Provera         2.191257 -0.301481  0.092552  0.141929  0.750486\n",
       "Implanon             2.611465 -0.154153  0.100624  0.126701  0.753548\n",
       "Mirena               3.312457 -0.096095  0.103759  0.119281  0.768724\n",
       "Norethindrone        2.286408 -0.349432  0.075330  0.137549  0.767704\n",
       "NuvaRing             2.975610 -0.039855  0.103268  0.116976  0.771618\n",
       "Ortho Tri-Cyclen     3.108696 -0.076774  0.104022  0.111804  0.762424\n",
       "Xulane               3.238806 -0.013804  0.102843  0.107440  0.759866"
      ]
     },
     "execution_count": 36,
     "metadata": {},
     "output_type": "execute_result"
    }
   ],
   "source": [
    "bc_df['Star_Rating'] = bc_df['Star_Rating'].astype('int64')\n",
    "avg_rating = bc_df.groupby('Birth_Control').mean()\n",
    "avg_rating"
   ]
  },
  {
   "cell_type": "code",
   "execution_count": 38,
   "metadata": {},
   "outputs": [
    {
     "data": {
      "text/plain": [
       "\"I wanted an easy birth control method. Definitely easy to use. Never fell out when it wasn't suppose to, and A LOT LESS acne. The CONS for me was gaining 50lbs, low libido, extra discharge (way extra), feeling like a huge balloon! I've been on it for about a year now and I'm stopping it today! I look like I'm 9 months pregnant no joke! It made my belly balloon out like I have beer gut and I don't drink beer. I feel like my whole body is swollen. The reason I've been on it so long was because I thought it was just me needing to work out more. NOPE! I've been killing myself and no change, still gaining about a pound a week! See ya Nuva Ring! ✌\""
      ]
     },
     "execution_count": 38,
     "metadata": {},
     "output_type": "execute_result"
    }
   ],
   "source": [
    "# Why is this row misbehaving?\n",
    "bc_df['Review'][2295]"
   ]
  },
  {
   "cell_type": "code",
   "execution_count": 39,
   "metadata": {},
   "outputs": [],
   "source": [
    "# Drop review containing emoji\n",
    "bc_df_clean = bc_df.drop([2295])"
   ]
  },
  {
   "cell_type": "code",
   "execution_count": 42,
   "metadata": {},
   "outputs": [],
   "source": [
    "compound_score = []\n",
    "\n",
    "for score in bc_df['Compound']:\n",
    "    if score <= 0-.6: \n",
    "        compound_score.append('Very Negative')\n",
    "    elif score <= 0-.2: \n",
    "        compound_score.append('Negative')\n",
    "    elif score <= .2: \n",
    "        compound_score.append('Neutral')\n",
    "    elif score <= .6: \n",
    "        compound_score.append('Positive') \n",
    "    else:\n",
    "        compound_score.append('Very Positive')"
   ]
  },
  {
   "cell_type": "code",
   "execution_count": 43,
   "metadata": {},
   "outputs": [],
   "source": [
    "bc_df['Vader_Scale'] = compound_score"
   ]
  },
  {
   "cell_type": "code",
   "execution_count": 44,
   "metadata": {},
   "outputs": [
    {
     "data": {
      "text/html": [
       "<div>\n",
       "<style scoped>\n",
       "    .dataframe tbody tr th:only-of-type {\n",
       "        vertical-align: middle;\n",
       "    }\n",
       "\n",
       "    .dataframe tbody tr th {\n",
       "        vertical-align: top;\n",
       "    }\n",
       "\n",
       "    .dataframe thead th {\n",
       "        text-align: right;\n",
       "    }\n",
       "</style>\n",
       "<table border=\"1\" class=\"dataframe\">\n",
       "  <thead>\n",
       "    <tr style=\"text-align: right;\">\n",
       "      <th></th>\n",
       "      <th>Birth_Control</th>\n",
       "      <th>Star_Rating</th>\n",
       "      <th>Review</th>\n",
       "      <th>Use</th>\n",
       "      <th>Publish_Date</th>\n",
       "      <th>Compound</th>\n",
       "      <th>Positive</th>\n",
       "      <th>Negative</th>\n",
       "      <th>Neutral</th>\n",
       "      <th>Source</th>\n",
       "      <th>Method</th>\n",
       "      <th>Vader_Scale</th>\n",
       "    </tr>\n",
       "  </thead>\n",
       "  <tbody>\n",
       "    <tr>\n",
       "      <th>0</th>\n",
       "      <td>Depo-Provera</td>\n",
       "      <td>1</td>\n",
       "      <td>After 6 years of taking this injection, my wif...</td>\n",
       "      <td>Birth Control</td>\n",
       "      <td>4/1/2019</td>\n",
       "      <td>-0.5574</td>\n",
       "      <td>0.031</td>\n",
       "      <td>0.075</td>\n",
       "      <td>0.895</td>\n",
       "      <td>Everyday Health</td>\n",
       "      <td>Shot</td>\n",
       "      <td>Negative</td>\n",
       "    </tr>\n",
       "    <tr>\n",
       "      <th>1</th>\n",
       "      <td>Depo-Provera</td>\n",
       "      <td>5</td>\n",
       "      <td>Have endrometrisos was bleeding from vagina an...</td>\n",
       "      <td>Endometriosis</td>\n",
       "      <td>3/10/2019</td>\n",
       "      <td>-0.6908</td>\n",
       "      <td>0.051</td>\n",
       "      <td>0.133</td>\n",
       "      <td>0.816</td>\n",
       "      <td>Everyday Health</td>\n",
       "      <td>Shot</td>\n",
       "      <td>Very Negative</td>\n",
       "    </tr>\n",
       "    <tr>\n",
       "      <th>2</th>\n",
       "      <td>Depo-Provera</td>\n",
       "      <td>1</td>\n",
       "      <td>I had a miscarriage due to the depo shot. Plea...</td>\n",
       "      <td>Birth Control</td>\n",
       "      <td>3/8/2019</td>\n",
       "      <td>0.0516</td>\n",
       "      <td>0.144</td>\n",
       "      <td>0.109</td>\n",
       "      <td>0.747</td>\n",
       "      <td>Everyday Health</td>\n",
       "      <td>Shot</td>\n",
       "      <td>Neutral</td>\n",
       "    </tr>\n",
       "    <tr>\n",
       "      <th>3</th>\n",
       "      <td>Depo-Provera</td>\n",
       "      <td>3</td>\n",
       "      <td>I have been on this for 4/5 years i would reco...</td>\n",
       "      <td>Birth Control</td>\n",
       "      <td>3/6/2019</td>\n",
       "      <td>0.7251</td>\n",
       "      <td>0.212</td>\n",
       "      <td>0.000</td>\n",
       "      <td>0.788</td>\n",
       "      <td>Everyday Health</td>\n",
       "      <td>Shot</td>\n",
       "      <td>Very Positive</td>\n",
       "    </tr>\n",
       "    <tr>\n",
       "      <th>4</th>\n",
       "      <td>Depo-Provera</td>\n",
       "      <td>1</td>\n",
       "      <td>Ive been on it for 2 months now , I get Horrib...</td>\n",
       "      <td>Birth Control</td>\n",
       "      <td>3/5/2019</td>\n",
       "      <td>-0.8772</td>\n",
       "      <td>0.000</td>\n",
       "      <td>0.181</td>\n",
       "      <td>0.819</td>\n",
       "      <td>Everyday Health</td>\n",
       "      <td>Shot</td>\n",
       "      <td>Very Negative</td>\n",
       "    </tr>\n",
       "  </tbody>\n",
       "</table>\n",
       "</div>"
      ],
      "text/plain": [
       "  Birth_Control  Star_Rating  \\\n",
       "0  Depo-Provera            1   \n",
       "1  Depo-Provera            5   \n",
       "2  Depo-Provera            1   \n",
       "3  Depo-Provera            3   \n",
       "4  Depo-Provera            1   \n",
       "\n",
       "                                              Review             Use  \\\n",
       "0  After 6 years of taking this injection, my wif...  Birth Control    \n",
       "1  Have endrometrisos was bleeding from vagina an...  Endometriosis    \n",
       "2  I had a miscarriage due to the depo shot. Plea...  Birth Control    \n",
       "3  I have been on this for 4/5 years i would reco...  Birth Control    \n",
       "4  Ive been on it for 2 months now , I get Horrib...  Birth Control    \n",
       "\n",
       "  Publish_Date  Compound  Positive  Negative  Neutral           Source Method  \\\n",
       "0     4/1/2019   -0.5574     0.031     0.075    0.895  Everyday Health   Shot   \n",
       "1    3/10/2019   -0.6908     0.051     0.133    0.816  Everyday Health   Shot   \n",
       "2     3/8/2019    0.0516     0.144     0.109    0.747  Everyday Health   Shot   \n",
       "3    3/6/2019     0.7251     0.212     0.000    0.788  Everyday Health   Shot   \n",
       "4     3/5/2019   -0.8772     0.000     0.181    0.819  Everyday Health   Shot   \n",
       "\n",
       "     Vader_Scale  \n",
       "0       Negative  \n",
       "1  Very Negative  \n",
       "2        Neutral  \n",
       "3  Very Positive  \n",
       "4  Very Negative  "
      ]
     },
     "execution_count": 44,
     "metadata": {},
     "output_type": "execute_result"
    }
   ],
   "source": [
    "bc_df.head()"
   ]
  },
  {
   "cell_type": "code",
   "execution_count": 47,
   "metadata": {},
   "outputs": [
    {
     "data": {
      "text/html": [
       "<div>\n",
       "<style scoped>\n",
       "    .dataframe tbody tr th:only-of-type {\n",
       "        vertical-align: middle;\n",
       "    }\n",
       "\n",
       "    .dataframe tbody tr th {\n",
       "        vertical-align: top;\n",
       "    }\n",
       "\n",
       "    .dataframe thead th {\n",
       "        text-align: right;\n",
       "    }\n",
       "</style>\n",
       "<table border=\"1\" class=\"dataframe\">\n",
       "  <thead>\n",
       "    <tr style=\"text-align: right;\">\n",
       "      <th></th>\n",
       "      <th>Vader_Scale</th>\n",
       "    </tr>\n",
       "  </thead>\n",
       "  <tbody>\n",
       "    <tr>\n",
       "      <th>Very Negative</th>\n",
       "      <td>1271</td>\n",
       "    </tr>\n",
       "    <tr>\n",
       "      <th>Very Positive</th>\n",
       "      <td>789</td>\n",
       "    </tr>\n",
       "    <tr>\n",
       "      <th>Negative</th>\n",
       "      <td>336</td>\n",
       "    </tr>\n",
       "    <tr>\n",
       "      <th>Positive</th>\n",
       "      <td>252</td>\n",
       "    </tr>\n",
       "    <tr>\n",
       "      <th>Neutral</th>\n",
       "      <td>249</td>\n",
       "    </tr>\n",
       "  </tbody>\n",
       "</table>\n",
       "</div>"
      ],
      "text/plain": [
       "               Vader_Scale\n",
       "Very Negative         1271\n",
       "Very Positive          789\n",
       "Negative               336\n",
       "Positive               252\n",
       "Neutral                249"
      ]
     },
     "execution_count": 47,
     "metadata": {},
     "output_type": "execute_result"
    }
   ],
   "source": [
    "vader_count = pd.DataFrame(bc_df['Vader_Scale'].value_counts())\n",
    "vader_count"
   ]
  },
  {
   "cell_type": "code",
   "execution_count": 65,
   "metadata": {},
   "outputs": [],
   "source": [
    "vader_count.to_csv('vader_counts.csv')"
   ]
  },
  {
   "cell_type": "code",
   "execution_count": 48,
   "metadata": {},
   "outputs": [
    {
     "data": {
      "text/html": [
       "<div>\n",
       "<style scoped>\n",
       "    .dataframe tbody tr th:only-of-type {\n",
       "        vertical-align: middle;\n",
       "    }\n",
       "\n",
       "    .dataframe tbody tr th {\n",
       "        vertical-align: top;\n",
       "    }\n",
       "\n",
       "    .dataframe thead th {\n",
       "        text-align: right;\n",
       "    }\n",
       "</style>\n",
       "<table border=\"1\" class=\"dataframe\">\n",
       "  <thead>\n",
       "    <tr style=\"text-align: right;\">\n",
       "      <th></th>\n",
       "      <th>Birth_Control</th>\n",
       "    </tr>\n",
       "  </thead>\n",
       "  <tbody>\n",
       "    <tr>\n",
       "      <th>Mirena</th>\n",
       "      <td>1453</td>\n",
       "    </tr>\n",
       "    <tr>\n",
       "      <th>Depo-Provera</th>\n",
       "      <td>732</td>\n",
       "    </tr>\n",
       "    <tr>\n",
       "      <th>Norethindrone</th>\n",
       "      <td>206</td>\n",
       "    </tr>\n",
       "    <tr>\n",
       "      <th>Implanon</th>\n",
       "      <td>157</td>\n",
       "    </tr>\n",
       "    <tr>\n",
       "      <th>Xulane</th>\n",
       "      <td>134</td>\n",
       "    </tr>\n",
       "    <tr>\n",
       "      <th>NuvaRing</th>\n",
       "      <td>123</td>\n",
       "    </tr>\n",
       "    <tr>\n",
       "      <th>Ortho Tri-Cyclen</th>\n",
       "      <td>92</td>\n",
       "    </tr>\n",
       "  </tbody>\n",
       "</table>\n",
       "</div>"
      ],
      "text/plain": [
       "                  Birth_Control\n",
       "Mirena                     1453\n",
       "Depo-Provera                732\n",
       "Norethindrone               206\n",
       "Implanon                    157\n",
       "Xulane                      134\n",
       "NuvaRing                    123\n",
       "Ortho Tri-Cyclen             92"
      ]
     },
     "execution_count": 48,
     "metadata": {},
     "output_type": "execute_result"
    }
   ],
   "source": [
    "method_count = pd.DataFrame(bc_df['Birth_Control'].value_counts())\n",
    "method_count"
   ]
  },
  {
   "cell_type": "code",
   "execution_count": 49,
   "metadata": {},
   "outputs": [
    {
     "data": {
      "text/html": [
       "<div>\n",
       "<style scoped>\n",
       "    .dataframe tbody tr th:only-of-type {\n",
       "        vertical-align: middle;\n",
       "    }\n",
       "\n",
       "    .dataframe tbody tr th {\n",
       "        vertical-align: top;\n",
       "    }\n",
       "\n",
       "    .dataframe thead th {\n",
       "        text-align: right;\n",
       "    }\n",
       "</style>\n",
       "<table border=\"1\" class=\"dataframe\">\n",
       "  <thead>\n",
       "    <tr style=\"text-align: right;\">\n",
       "      <th></th>\n",
       "      <th>Use</th>\n",
       "    </tr>\n",
       "  </thead>\n",
       "  <tbody>\n",
       "    <tr>\n",
       "      <th>Birth Control</th>\n",
       "      <td>1691</td>\n",
       "    </tr>\n",
       "    <tr>\n",
       "      <th>Contraception</th>\n",
       "      <td>645</td>\n",
       "    </tr>\n",
       "    <tr>\n",
       "      <th>Endometriosis</th>\n",
       "      <td>318</td>\n",
       "    </tr>\n",
       "    <tr>\n",
       "      <th>Abnormal Uterine Bleeding</th>\n",
       "      <td>97</td>\n",
       "    </tr>\n",
       "    <tr>\n",
       "      <th>Depression</th>\n",
       "      <td>32</td>\n",
       "    </tr>\n",
       "    <tr>\n",
       "      <th>Premenstrual Syndrome</th>\n",
       "      <td>25</td>\n",
       "    </tr>\n",
       "    <tr>\n",
       "      <th>Acne</th>\n",
       "      <td>16</td>\n",
       "    </tr>\n",
       "    <tr>\n",
       "      <th>Dysfunctional Uterine Bleeding</th>\n",
       "      <td>12</td>\n",
       "    </tr>\n",
       "    <tr>\n",
       "      <th>Migraine</th>\n",
       "      <td>11</td>\n",
       "    </tr>\n",
       "    <tr>\n",
       "      <th>Polycystic ovarian syndrome (PCOS)</th>\n",
       "      <td>10</td>\n",
       "    </tr>\n",
       "    <tr>\n",
       "      <th>Menopause and perimenopause</th>\n",
       "      <td>7</td>\n",
       "    </tr>\n",
       "    <tr>\n",
       "      <th>Estrogen Replacement Therapy</th>\n",
       "      <td>6</td>\n",
       "    </tr>\n",
       "    <tr>\n",
       "      <th>Amenorrhea</th>\n",
       "      <td>6</td>\n",
       "    </tr>\n",
       "    <tr>\n",
       "      <th>Postcoital Contraception</th>\n",
       "      <td>5</td>\n",
       "    </tr>\n",
       "    <tr>\n",
       "      <th>Polycystic ovary syndrome</th>\n",
       "      <td>4</td>\n",
       "    </tr>\n",
       "    <tr>\n",
       "      <th>Bipolar II disorder</th>\n",
       "      <td>3</td>\n",
       "    </tr>\n",
       "    <tr>\n",
       "      <th>Fibroids</th>\n",
       "      <td>3</td>\n",
       "    </tr>\n",
       "    <tr>\n",
       "      <th>Hormone replacement therapy (HRT)</th>\n",
       "      <td>1</td>\n",
       "    </tr>\n",
       "    <tr>\n",
       "      <th>Acne vulgaris</th>\n",
       "      <td>1</td>\n",
       "    </tr>\n",
       "    <tr>\n",
       "      <th>Paraphilia</th>\n",
       "      <td>1</td>\n",
       "    </tr>\n",
       "    <tr>\n",
       "      <th>Interstitial cystitis</th>\n",
       "      <td>1</td>\n",
       "    </tr>\n",
       "    <tr>\n",
       "      <th>Epilepsy</th>\n",
       "      <td>1</td>\n",
       "    </tr>\n",
       "    <tr>\n",
       "      <th>Panic disorder / agoraphobia</th>\n",
       "      <td>1</td>\n",
       "    </tr>\n",
       "  </tbody>\n",
       "</table>\n",
       "</div>"
      ],
      "text/plain": [
       "                                      Use\n",
       "Birth Control                        1691\n",
       "Contraception                         645\n",
       "Endometriosis                         318\n",
       "Abnormal Uterine Bleeding              97\n",
       "Depression                             32\n",
       "Premenstrual Syndrome                  25\n",
       "Acne                                   16\n",
       "Dysfunctional Uterine Bleeding         12\n",
       "Migraine                               11\n",
       "Polycystic ovarian syndrome (PCOS)     10\n",
       "Menopause and perimenopause             7\n",
       "Estrogen Replacement Therapy            6\n",
       "Amenorrhea                              6\n",
       "Postcoital Contraception                5\n",
       "Polycystic ovary syndrome               4\n",
       "Bipolar II disorder                     3\n",
       "Fibroids                                3\n",
       "Hormone replacement therapy (HRT)       1\n",
       "Acne vulgaris                           1\n",
       "Paraphilia                              1\n",
       "Interstitial cystitis                   1\n",
       "Epilepsy                                1\n",
       "Panic disorder / agoraphobia            1"
      ]
     },
     "execution_count": 49,
     "metadata": {},
     "output_type": "execute_result"
    }
   ],
   "source": [
    "# What are women using their birth control for?\n",
    "use_count = pd.DataFrame(bc_df['Use'].value_counts())\n",
    "use_count"
   ]
  },
  {
   "cell_type": "code",
   "execution_count": 50,
   "metadata": {},
   "outputs": [
    {
     "data": {
      "text/html": [
       "<div>\n",
       "<style scoped>\n",
       "    .dataframe tbody tr th:only-of-type {\n",
       "        vertical-align: middle;\n",
       "    }\n",
       "\n",
       "    .dataframe tbody tr th {\n",
       "        vertical-align: top;\n",
       "    }\n",
       "\n",
       "    .dataframe thead th {\n",
       "        text-align: right;\n",
       "    }\n",
       "</style>\n",
       "<table border=\"1\" class=\"dataframe\">\n",
       "  <thead>\n",
       "    <tr style=\"text-align: right;\">\n",
       "      <th></th>\n",
       "      <th>Star_Rating</th>\n",
       "    </tr>\n",
       "  </thead>\n",
       "  <tbody>\n",
       "    <tr>\n",
       "      <th>1</th>\n",
       "      <td>973</td>\n",
       "    </tr>\n",
       "    <tr>\n",
       "      <th>5</th>\n",
       "      <td>869</td>\n",
       "    </tr>\n",
       "    <tr>\n",
       "      <th>4</th>\n",
       "      <td>391</td>\n",
       "    </tr>\n",
       "    <tr>\n",
       "      <th>3</th>\n",
       "      <td>324</td>\n",
       "    </tr>\n",
       "    <tr>\n",
       "      <th>2</th>\n",
       "      <td>265</td>\n",
       "    </tr>\n",
       "    <tr>\n",
       "      <th>0</th>\n",
       "      <td>75</td>\n",
       "    </tr>\n",
       "  </tbody>\n",
       "</table>\n",
       "</div>"
      ],
      "text/plain": [
       "   Star_Rating\n",
       "1          973\n",
       "5          869\n",
       "4          391\n",
       "3          324\n",
       "2          265\n",
       "0           75"
      ]
     },
     "execution_count": 50,
     "metadata": {},
     "output_type": "execute_result"
    }
   ],
   "source": [
    "# Number of times each rating was given\n",
    "star_count = pd.DataFrame(bc_df['Star_Rating'].value_counts())\n",
    "star_count"
   ]
  },
  {
   "cell_type": "code",
   "execution_count": 51,
   "metadata": {},
   "outputs": [
    {
     "data": {
      "text/html": [
       "<div>\n",
       "<style scoped>\n",
       "    .dataframe tbody tr th:only-of-type {\n",
       "        vertical-align: middle;\n",
       "    }\n",
       "\n",
       "    .dataframe tbody tr th {\n",
       "        vertical-align: top;\n",
       "    }\n",
       "\n",
       "    .dataframe thead th {\n",
       "        text-align: right;\n",
       "    }\n",
       "</style>\n",
       "<table border=\"1\" class=\"dataframe\">\n",
       "  <thead>\n",
       "    <tr style=\"text-align: right;\">\n",
       "      <th></th>\n",
       "      <th>Star_Rating</th>\n",
       "      <th>Compound</th>\n",
       "      <th>Positive</th>\n",
       "      <th>Negative</th>\n",
       "      <th>Neutral</th>\n",
       "    </tr>\n",
       "    <tr>\n",
       "      <th>Birth_Control</th>\n",
       "      <th></th>\n",
       "      <th></th>\n",
       "      <th></th>\n",
       "      <th></th>\n",
       "      <th></th>\n",
       "    </tr>\n",
       "  </thead>\n",
       "  <tbody>\n",
       "    <tr>\n",
       "      <th>Depo-Provera</th>\n",
       "      <td>2.191257</td>\n",
       "      <td>-0.301481</td>\n",
       "      <td>0.092552</td>\n",
       "      <td>0.141929</td>\n",
       "      <td>0.750486</td>\n",
       "    </tr>\n",
       "    <tr>\n",
       "      <th>Implanon</th>\n",
       "      <td>2.611465</td>\n",
       "      <td>-0.154153</td>\n",
       "      <td>0.100624</td>\n",
       "      <td>0.126701</td>\n",
       "      <td>0.753548</td>\n",
       "    </tr>\n",
       "    <tr>\n",
       "      <th>Mirena</th>\n",
       "      <td>3.312457</td>\n",
       "      <td>-0.096095</td>\n",
       "      <td>0.103759</td>\n",
       "      <td>0.119281</td>\n",
       "      <td>0.768724</td>\n",
       "    </tr>\n",
       "    <tr>\n",
       "      <th>Norethindrone</th>\n",
       "      <td>2.286408</td>\n",
       "      <td>-0.349432</td>\n",
       "      <td>0.075330</td>\n",
       "      <td>0.137549</td>\n",
       "      <td>0.767704</td>\n",
       "    </tr>\n",
       "    <tr>\n",
       "      <th>NuvaRing</th>\n",
       "      <td>2.975610</td>\n",
       "      <td>-0.039855</td>\n",
       "      <td>0.103268</td>\n",
       "      <td>0.116976</td>\n",
       "      <td>0.771618</td>\n",
       "    </tr>\n",
       "    <tr>\n",
       "      <th>Ortho Tri-Cyclen</th>\n",
       "      <td>3.108696</td>\n",
       "      <td>-0.076774</td>\n",
       "      <td>0.104022</td>\n",
       "      <td>0.111804</td>\n",
       "      <td>0.762424</td>\n",
       "    </tr>\n",
       "    <tr>\n",
       "      <th>Xulane</th>\n",
       "      <td>3.238806</td>\n",
       "      <td>-0.013804</td>\n",
       "      <td>0.102843</td>\n",
       "      <td>0.107440</td>\n",
       "      <td>0.759866</td>\n",
       "    </tr>\n",
       "  </tbody>\n",
       "</table>\n",
       "</div>"
      ],
      "text/plain": [
       "                  Star_Rating  Compound  Positive  Negative   Neutral\n",
       "Birth_Control                                                        \n",
       "Depo-Provera         2.191257 -0.301481  0.092552  0.141929  0.750486\n",
       "Implanon             2.611465 -0.154153  0.100624  0.126701  0.753548\n",
       "Mirena               3.312457 -0.096095  0.103759  0.119281  0.768724\n",
       "Norethindrone        2.286408 -0.349432  0.075330  0.137549  0.767704\n",
       "NuvaRing             2.975610 -0.039855  0.103268  0.116976  0.771618\n",
       "Ortho Tri-Cyclen     3.108696 -0.076774  0.104022  0.111804  0.762424\n",
       "Xulane               3.238806 -0.013804  0.102843  0.107440  0.759866"
      ]
     },
     "execution_count": 51,
     "metadata": {},
     "output_type": "execute_result"
    }
   ],
   "source": [
    "# Create a dataframe showing averages for each type of birth control\n",
    "bc_df['Star_Rating'] = bc_df['Star_Rating'].astype('int64')\n",
    "avg_rating = bc_df.groupby('Birth_Control').mean()\n",
    "avg_rating"
   ]
  },
  {
   "cell_type": "code",
   "execution_count": 52,
   "metadata": {},
   "outputs": [
    {
     "name": "stdout",
     "output_type": "stream",
     "text": [
      "2.8940283051432516\n",
      "2.9915314772796004\n",
      "1.729604427977565\n"
     ]
    }
   ],
   "source": [
    "# Stats for quantitative feedback (Star Rating)\n",
    "all_star_avg = bc_df['Star_Rating'].mean()\n",
    "all_star_variance = np.var(bc_df['Star_Rating'])\n",
    "all_star_deviation = np.std(bc_df['Star_Rating'])\n",
    "print(all_star_avg)\n",
    "print(all_star_variance)\n",
    "print(all_star_deviation)"
   ]
  },
  {
   "cell_type": "code",
   "execution_count": 53,
   "metadata": {},
   "outputs": [
    {
     "name": "stdout",
     "output_type": "stream",
     "text": [
      "-0.16234401104590943\n",
      "0.5498363762922311\n",
      "0.7415095254224527\n"
     ]
    }
   ],
   "source": [
    "# Stats for qualitative feedback (Compound VADER score) \n",
    "all_compound_avg = bc_df['Compound'].mean()\n",
    "all_compound_variance = np.var(bc_df['Compound'])\n",
    "all_compound_deviation = np.std(bc_df['Compound'])\n",
    "print(all_compound_avg)\n",
    "print(all_compound_variance)\n",
    "print(all_compound_deviation)"
   ]
  },
  {
   "cell_type": "code",
   "execution_count": 55,
   "metadata": {},
   "outputs": [
    {
     "data": {
      "text/plain": [
       "<matplotlib.axes._subplots.AxesSubplot at 0x29b4bab8c50>"
      ]
     },
     "execution_count": 55,
     "metadata": {},
     "output_type": "execute_result"
    },
    {
     "data": {
      "image/png": "[encoded data removed]",
      "text/plain": [
       "<Figure size 432x288 with 1 Axes>"
      ]
     },
     "metadata": {
      "needs_background": "light"
     },
     "output_type": "display_data"
    }
   ],
   "source": [
    "avg_rating['Star_Rating'].plot(kind='box')"
   ]
  },
  {
   "cell_type": "code",
   "execution_count": 56,
   "metadata": {},
   "outputs": [
    {
     "data": {
      "text/plain": [
       "<matplotlib.axes._subplots.AxesSubplot at 0x29b4dec0828>"
      ]
     },
     "execution_count": 56,
     "metadata": {},
     "output_type": "execute_result"
    },
    {
     "data": {
      "image/png": "[encoded data removed]",
      "text/plain": [
       "<Figure size 432x288 with 1 Axes>"
      ]
     },
     "metadata": {
      "needs_background": "light"
     },
     "output_type": "display_data"
    }
   ],
   "source": [
    "avg_rating['Compound'].plot(kind='box')"
   ]
  },
  {
   "cell_type": "code",
   "execution_count": 57,
   "metadata": {},
   "outputs": [
    {
     "data": {
      "image/png": "[encoded data removed]",
      "text/plain": [
       "<Figure size 432x288 with 1 Axes>"
      ]
     },
     "metadata": {
      "needs_background": "light"
     },
     "output_type": "display_data"
    }
   ],
   "source": [
    "boxplot = avg_rating.boxplot(column=['Star_Rating', 'Compound'])"
   ]
  },
  {
   "cell_type": "code",
   "execution_count": 58,
   "metadata": {},
   "outputs": [
    {
     "data": {
      "text/plain": [
       "<matplotlib.axes._subplots.AxesSubplot at 0x29b4b3d9668>"
      ]
     },
     "execution_count": 58,
     "metadata": {},
     "output_type": "execute_result"
    },
    {
     "data": {
      "image/png": "[encoded data removed]",
      "text/plain": [
       "<Figure size 432x288 with 1 Axes>"
      ]
     },
     "metadata": {
      "needs_background": "light"
     },
     "output_type": "display_data"
    }
   ],
   "source": [
    "d = {'depo_star' : depo_df['Star_Rating'].astype(int),\n",
    "'mirena_star' : mirena_df['Star_Rating'].astype(int),\n",
    "'implanon_star' : implanon_df['Star_Rating'].astype(int),\n",
    "'norethindrone_star' : norethindrone_df['Star_Rating'].astype(int),\n",
    "'nuvaring_star' : nuvaring_df['Star_Rating'].astype(int),\n",
    "'xulane_star' : xulane_df['Star_Rating'].astype(int),\n",
    "'combo_star' : combo_df['Star_Rating'].astype(int)}\n",
    "\n",
    "\n",
    "star_comp = pd.DataFrame(data=d)\n",
    "star_comp.boxplot(rot=45, grid=False, column=['depo_star', 'mirena_star','implanon_star','norethindrone_star','nuvaring_star','xulane_star','combo_star' ])"
   ]
  },
  {
   "cell_type": "code",
   "execution_count": 59,
   "metadata": {},
   "outputs": [],
   "source": [
    "#List of most common side effects. adding varied language and prurals to capture as many mentions as possible.\n",
    "side_effects = ['weight','gain','pounds','bloat','bloated','bloating','bleed','bled','bleeding','blood','heavy','spot','spotting','headache',\n",
    "                'headaches','migraine','migraines','depression','depressed','anxiety','anxious','sad','cry','cried','crying','nausea','nauseous','nauseated',\n",
    "                'mood','swings','libido','drive','discharge','pain','painful','cramp','cramps','cramping','clot','clots','acne','pimples','breakout','breakouts','zits',\n",
    "                'infection','vaginosis','vaginitis','bacteria','itchy','itching','dry','dryness','tired','drowsy','drowsiness','fatigue','irritable','irritablility','flashes',\n",
    "                'hair','cyst','cysts','dizzy','dizziness','vomit','vomitting']"
   ]
  },
  {
   "cell_type": "code",
   "execution_count": null,
   "metadata": {},
   "outputs": [],
   "source": [
    "# Create a funtion to consolidate different words referring to the same side effect\n",
    "def clean_words(word_set):\n",
    "    word_set['effects'] = word_set['effects'].replace({'bleed':'bleeding',\\\n",
    "                                                       'bled':'bleeding',\\\n",
    "                                                       'blood':'bleeding', \\\n",
    "                                                       'depressed':'depression', \\\n",
    "                                                       'anxious':'anxiety', \\\n",
    "                                                       'zits':'acne',\\\n",
    "                                                       'pimples':'acne',\\\n",
    "                                                       'breakout':'acne',\\\n",
    "                                                       'breakouts':'acne',\\\n",
    "                                                       'drive':'libido',\\\n",
    "                                                       'pain':'painful',\\\n",
    "                                                       'cramp':'cramps',\\\n",
    "                                                       'cramping':'cramps',\\\n",
    "                                                       'spot':'spotting',\\\n",
    "                                                       'bloat':'bloating',\\\n",
    "                                                       'bloated':'bloating',\\\n",
    "                                                       'cried':'crying',\\\n",
    "                                                       'cry':'crying',\\\n",
    "                                                       'nauseous':'nausea',\\\n",
    "                                                       'nauseated':'nausea',\\\n",
    "                                                       'clot':'clots',\n",
    "                                                       'headache':'headaches',\\\n",
    "                                                       'migraine':'migraines',\\\n",
    "                                                       'vaginosis':'infection',\\\n",
    "                                                       'vaginitis':'infection',\\\n",
    "                                                       'bacteria':'infection'\n",
    "                                                      })"
   ]
  },
  {
   "cell_type": "code",
   "execution_count": 60,
   "metadata": {},
   "outputs": [],
   "source": [
    "bc_df.to_csv('birth_control_site1.csv')"
   ]
  },
  {
   "cell_type": "code",
   "execution_count": null,
   "metadata": {},
   "outputs": [],
   "source": [
    "# Save dataframe to AWS\n",
    "bc_df.to_sql(name='birth_control_all', if_exists='replace', con=conn, index=False)"
   ]
  },
  {
   "cell_type": "code",
   "execution_count": 63,
   "metadata": {},
   "outputs": [
    {
     "name": "stdout",
     "output_type": "stream",
     "text": [
      "2897\n"
     ]
    },
    {
     "data": {
      "text/html": [
       "<div>\n",
       "<style scoped>\n",
       "    .dataframe tbody tr th:only-of-type {\n",
       "        vertical-align: middle;\n",
       "    }\n",
       "\n",
       "    .dataframe tbody tr th {\n",
       "        vertical-align: top;\n",
       "    }\n",
       "\n",
       "    .dataframe thead th {\n",
       "        text-align: right;\n",
       "    }\n",
       "</style>\n",
       "<table border=\"1\" class=\"dataframe\">\n",
       "  <thead>\n",
       "    <tr style=\"text-align: right;\">\n",
       "      <th></th>\n",
       "      <th>Birth_Control</th>\n",
       "      <th>Star_Rating</th>\n",
       "      <th>Review</th>\n",
       "      <th>Use</th>\n",
       "      <th>Publish_Date</th>\n",
       "      <th>Compound</th>\n",
       "      <th>Positive</th>\n",
       "      <th>Negative</th>\n",
       "      <th>Neutral</th>\n",
       "      <th>Source</th>\n",
       "      <th>Method</th>\n",
       "      <th>Vader_Scale</th>\n",
       "    </tr>\n",
       "  </thead>\n",
       "  <tbody>\n",
       "    <tr>\n",
       "      <th>0</th>\n",
       "      <td>Depo-Provera</td>\n",
       "      <td>1</td>\n",
       "      <td>After 6 years of taking this injection, my wif...</td>\n",
       "      <td>Birth Control</td>\n",
       "      <td>4/1/2019</td>\n",
       "      <td>-0.5574</td>\n",
       "      <td>0.031</td>\n",
       "      <td>0.075</td>\n",
       "      <td>0.895</td>\n",
       "      <td>Everyday Health</td>\n",
       "      <td>Shot</td>\n",
       "      <td>Negative</td>\n",
       "    </tr>\n",
       "    <tr>\n",
       "      <th>1</th>\n",
       "      <td>Depo-Provera</td>\n",
       "      <td>5</td>\n",
       "      <td>Have endrometrisos was bleeding from vagina an...</td>\n",
       "      <td>Endometriosis</td>\n",
       "      <td>3/10/2019</td>\n",
       "      <td>-0.6908</td>\n",
       "      <td>0.051</td>\n",
       "      <td>0.133</td>\n",
       "      <td>0.816</td>\n",
       "      <td>Everyday Health</td>\n",
       "      <td>Shot</td>\n",
       "      <td>Very Negative</td>\n",
       "    </tr>\n",
       "    <tr>\n",
       "      <th>2</th>\n",
       "      <td>Depo-Provera</td>\n",
       "      <td>1</td>\n",
       "      <td>I had a miscarriage due to the depo shot. Plea...</td>\n",
       "      <td>Birth Control</td>\n",
       "      <td>3/8/2019</td>\n",
       "      <td>0.0516</td>\n",
       "      <td>0.144</td>\n",
       "      <td>0.109</td>\n",
       "      <td>0.747</td>\n",
       "      <td>Everyday Health</td>\n",
       "      <td>Shot</td>\n",
       "      <td>Neutral</td>\n",
       "    </tr>\n",
       "    <tr>\n",
       "      <th>3</th>\n",
       "      <td>Depo-Provera</td>\n",
       "      <td>3</td>\n",
       "      <td>I have been on this for 4/5 years i would reco...</td>\n",
       "      <td>Birth Control</td>\n",
       "      <td>3/6/2019</td>\n",
       "      <td>0.7251</td>\n",
       "      <td>0.212</td>\n",
       "      <td>0.000</td>\n",
       "      <td>0.788</td>\n",
       "      <td>Everyday Health</td>\n",
       "      <td>Shot</td>\n",
       "      <td>Very Positive</td>\n",
       "    </tr>\n",
       "    <tr>\n",
       "      <th>4</th>\n",
       "      <td>Depo-Provera</td>\n",
       "      <td>1</td>\n",
       "      <td>Ive been on it for 2 months now , I get Horrib...</td>\n",
       "      <td>Birth Control</td>\n",
       "      <td>3/5/2019</td>\n",
       "      <td>-0.8772</td>\n",
       "      <td>0.000</td>\n",
       "      <td>0.181</td>\n",
       "      <td>0.819</td>\n",
       "      <td>Everyday Health</td>\n",
       "      <td>Shot</td>\n",
       "      <td>Very Negative</td>\n",
       "    </tr>\n",
       "  </tbody>\n",
       "</table>\n",
       "</div>"
      ],
      "text/plain": [
       "  Birth_Control  Star_Rating  \\\n",
       "0  Depo-Provera            1   \n",
       "1  Depo-Provera            5   \n",
       "2  Depo-Provera            1   \n",
       "3  Depo-Provera            3   \n",
       "4  Depo-Provera            1   \n",
       "\n",
       "                                              Review             Use  \\\n",
       "0  After 6 years of taking this injection, my wif...  Birth Control    \n",
       "1  Have endrometrisos was bleeding from vagina an...  Endometriosis    \n",
       "2  I had a miscarriage due to the depo shot. Plea...  Birth Control    \n",
       "3  I have been on this for 4/5 years i would reco...  Birth Control    \n",
       "4  Ive been on it for 2 months now , I get Horrib...  Birth Control    \n",
       "\n",
       "  Publish_Date  Compound  Positive  Negative  Neutral           Source Method  \\\n",
       "0     4/1/2019   -0.5574     0.031     0.075    0.895  Everyday Health   Shot   \n",
       "1    3/10/2019   -0.6908     0.051     0.133    0.816  Everyday Health   Shot   \n",
       "2     3/8/2019    0.0516     0.144     0.109    0.747  Everyday Health   Shot   \n",
       "3    3/6/2019     0.7251     0.212     0.000    0.788  Everyday Health   Shot   \n",
       "4     3/5/2019   -0.8772     0.000     0.181    0.819  Everyday Health   Shot   \n",
       "\n",
       "     Vader_Scale  \n",
       "0       Negative  \n",
       "1  Very Negative  \n",
       "2        Neutral  \n",
       "3  Very Positive  \n",
       "4  Very Negative  "
      ]
     },
     "execution_count": 63,
     "metadata": {},
     "output_type": "execute_result"
    }
   ],
   "source": [
    "# Check remote database to make sure it migrated correctly\n",
    "remote_bc_data = pd.read_sql(\"SELECT * FROM birth_control_all\", conn)\n",
    "print(len(remote_bc_data))\n",
    "remote_bc_data.head()"
   ]
  },
  {
   "cell_type": "code",
   "execution_count": 64,
   "metadata": {},
   "outputs": [
    {
     "name": "stdout",
     "output_type": "stream",
     "text": [
      "Have endrometrisos was bleeding from vagina anus and ureatha heavy clots pain constantly for months ended up with anemia started the injection bleeding has stopped still have odd pelvic pain I'm 42 partner had vascetomy so using only for endrometrisos symptoms and this is first shot and it's been great so far I also have fibroids , was put on provera tablets 20mg few tablets a day for one week prior to starting needle\n"
     ]
    }
   ],
   "source": [
    "# Check that long string was not truncated during transfer\n",
    "print(remote_bc_data['Review'][1])"
   ]
  },
  {
   "cell_type": "code",
   "execution_count": null,
   "metadata": {},
   "outputs": [],
   "source": []
  }
 ],
 "metadata": {
  "kernelspec": {
   "display_name": "Python 3",
   "language": "python",
   "name": "python3"
  },
  "language_info": {
   "codemirror_mode": {
    "name": "ipython",
    "version": 3
   },
   "file_extension": ".py",
   "mimetype": "text/x-python",
   "name": "python",
   "nbconvert_exporter": "python",
   "pygments_lexer": "ipython3",
   "version": "3.7.0"
  },
  "varInspector": {
   "cols": {
    "lenName": 16,
    "lenType": 16,
    "lenVar": 40
   },
   "kernels_config": {
    "python": {
     "delete_cmd_postfix": "",
     "delete_cmd_prefix": "del ",
     "library": "var_list.py",
     "varRefreshCmd": "print(var_dic_list())"
    },
    "r": {
     "delete_cmd_postfix": ") ",
     "delete_cmd_prefix": "rm(",
     "library": "var_list.r",
     "varRefreshCmd": "cat(var_dic_list()) "
    }
   },
   "types_to_exclude": [
    "module",
    "function",
    "builtin_function_or_method",
    "instance",
    "_Feature"
   ],
   "window_display": false
  }
 },
 "nbformat": 4,
 "nbformat_minor": 2
}
