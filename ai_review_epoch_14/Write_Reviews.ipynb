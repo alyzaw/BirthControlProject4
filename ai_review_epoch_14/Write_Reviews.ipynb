{
 "cells": [
  {
   "cell_type": "code",
   "execution_count": 15,
   "metadata": {},
   "outputs": [
    {
     "name": "stderr",
     "output_type": "stream",
     "text": [
      "\r",
      "  0%|          | 0/10 [00:00<?, ?it/s]"
     ]
    },
    {
     "name": "stdout",
     "output_type": "stream",
     "text": [
      "I was on Nexplanon for about a year now. I went to the pill for a week and it went away when I was 11 and it was the worst pill to me. I am now 21 years old and experienced the side effects I had to go back to the pill. I didn't have to worry about this birth control due to the patch on the pill. I\n",
      "\n"
     ]
    },
    {
     "name": "stderr",
     "output_type": "stream",
     "text": [
      "\r",
      " 10%|█         | 1/10 [00:02<00:24,  2.69s/it]"
     ]
    },
    {
     "name": "stdout",
     "output_type": "stream",
     "text": [
      "I had it inserted about 2 months ago. I have never had a period and i was told that I was so long. I have not had a period and I went back to my period and I am so happy I was going to stop for the first week and I am sure this device is all strong with my body which was hard to be on my period for\n",
      "\n"
     ]
    },
    {
     "name": "stderr",
     "output_type": "stream",
     "text": [
      "\r",
      " 20%|██        | 2/10 [00:05<00:20,  2.59s/it]"
     ]
    },
    {
     "name": "stdout",
     "output_type": "stream",
     "text": [
      "\"I started taking the pill for about 6 months now and I was always heavy. I had my period for a little over a year and a half. I had to have the mirena inserted and I have a research and I have not had a period anymore and then I had not to have a period and I have a baby no shot and my body took i\n",
      "\n"
     ]
    },
    {
     "name": "stderr",
     "output_type": "stream",
     "text": [
      "\r",
      " 30%|███       | 3/10 [00:07<00:17,  2.53s/it]"
     ]
    },
    {
     "name": "stdout",
     "output_type": "stream",
     "text": [
      "\"I have been on this pill for about a year now. I felt a little cramping and so much and my skin has been a lot of sex where it was best to happen to the point of a contraceptive to see if it was so painful and I'm so still trying to get rid of my period and I got the Mirena placed and the speculum\n",
      "\n"
     ]
    },
    {
     "name": "stderr",
     "output_type": "stream",
     "text": [
      "\r",
      " 40%|████      | 4/10 [00:09<00:14,  2.49s/it]"
     ]
    },
    {
     "name": "stdout",
     "output_type": "stream",
     "text": [
      "\"I have been on the shot for about a year and a half and then insertion was the best blood less than that the arm is so bad, I had a few months ago and I have never had a child and cramps and my body has been a normal blood flow that wasn't not worth it. I have had no problems with the Mirena and I\n",
      "\n"
     ]
    },
    {
     "name": "stderr",
     "output_type": "stream",
     "text": [
      "\r",
      " 50%|█████     | 5/10 [00:12<00:12,  2.45s/it]"
     ]
    },
    {
     "name": "stdout",
     "output_type": "stream",
     "text": [
      "I was prescribed Mirena for about a year and a half and have had a severe cramp for me to the depo shot and then she was so scared to get the patch and it's been a nightmare. I was so sick that this may not work for me. I have been on the patch for about a year now. I have had it for about a year a\n",
      "\n"
     ]
    },
    {
     "name": "stderr",
     "output_type": "stream",
     "text": [
      "\r",
      " 60%|██████    | 6/10 [00:14<00:09,  2.49s/it]"
     ]
    },
    {
     "name": "stdout",
     "output_type": "stream",
     "text": [
      "\"I got the Mirena IUD inserted with a baby. I have never been cramping and it was a terrible experience with the pill and I have been on a pill but I was so expecting a long time and for the second one was normal. I started having to worry about taking it. I have had my period on the past 2 months \n",
      "\n"
     ]
    },
    {
     "name": "stderr",
     "output_type": "stream",
     "text": [
      "\r",
      " 70%|███████   | 7/10 [00:17<00:07,  2.57s/it]"
     ]
    },
    {
     "name": "stdout",
     "output_type": "stream",
     "text": [
      "I had it in for a year and a half and a half and I just had the implant and it was the same time and I have been on the pill before I was 18 and I had problems with this pill. I was experiencing was some discharge and a lot of pain in my emotions. I have no matter what I didn't have any side effect\n",
      "\n"
     ]
    },
    {
     "name": "stderr",
     "output_type": "stream",
     "text": [
      "\r",
      " 80%|████████  | 8/10 [00:19<00:04,  2.46s/it]"
     ]
    },
    {
     "name": "stdout",
     "output_type": "stream",
     "text": [
      "\"I have been on this birth control for about 3 months and I did not have a period and everything started when I was 1200% effective. I don't have any bad cramps and she feels like I should be aware of my body and the pain was the best pain of the strings. I did have a lot of spotting for about a ye\n",
      "\n"
     ]
    },
    {
     "name": "stderr",
     "output_type": "stream",
     "text": [
      "\r",
      " 90%|█████████ | 9/10 [00:22<00:02,  2.47s/it]"
     ]
    },
    {
     "name": "stdout",
     "output_type": "stream",
     "text": [
      "\"I got the Mirena a month ago because I was not pregnant and I had to get the pill and it was a little more pretty bad. I have not gotten a period for a long time I did not have any pain that is a little tired and all the symptoms to even be on the pill for a month ago and I am through the pill tha\n",
      "\n"
     ]
    },
    {
     "name": "stderr",
     "output_type": "stream",
     "text": [
      "100%|██████████| 10/10 [00:24<00:00,  2.39s/it]\n"
     ]
    }
   ],
   "source": [
    "from textgenrnn import textgenrnn\n",
    "t = textgenrnn('textgenrnn_weights.hdf5')\n",
    "t.generate(10, temperature=0.45)"
   ]
  },
  {
   "cell_type": "code",
   "execution_count": null,
   "metadata": {},
   "outputs": [],
   "source": []
  }
 ],
 "metadata": {
  "kernelspec": {
   "display_name": "Python 3",
   "language": "python",
   "name": "python3"
  },
  "language_info": {
   "codemirror_mode": {
    "name": "ipython",
    "version": 3
   },
   "file_extension": ".py",
   "mimetype": "text/x-python",
   "name": "python",
   "nbconvert_exporter": "python",
   "pygments_lexer": "ipython3",
   "version": "3.7.0"
  }
 },
 "nbformat": 4,
 "nbformat_minor": 2
}
