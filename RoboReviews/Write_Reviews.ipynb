{
 "cells": [
  {
   "cell_type": "code",
   "execution_count": 5,
   "metadata": {},
   "outputs": [
    {
     "name": "stderr",
     "output_type": "stream",
     "text": [
      "\r",
      "  0%|          | 0/20 [00:00<?, ?it/s]"
     ]
    },
    {
     "name": "stdout",
     "output_type": "stream",
     "text": [
      "I got the Mirena and had a bad review because I didn't have to say that I was so happy and I was about to get it in about 6 months and I never got it put in a month. It was so pregnant for me, but I would have been bleeding for the birth control pills and then I started taking it and then I was on \n",
      "\n"
     ]
    },
    {
     "name": "stderr",
     "output_type": "stream",
     "text": [
      "\r",
      "  5%|▌         | 1/20 [00:01<00:33,  1.78s/it]"
     ]
    },
    {
     "name": "stdout",
     "output_type": "stream",
     "text": [
      "\"I have had contractions it was so cramping and I would be a painful irritability and so far so far I would get it removed and they would only recommend it! I have been doing the shot to make sure that it was pretty different, I was on my second time and the first birth control is better. So the sa\n",
      "\n"
     ]
    },
    {
     "name": "stderr",
     "output_type": "stream",
     "text": [
      "\r",
      " 10%|█         | 2/20 [00:03<00:32,  1.81s/it]"
     ]
    },
    {
     "name": "stdout",
     "output_type": "stream",
     "text": [
      "\"I bleed to see if I was on the pill after a few months and the insertion was the pain in a big period. It has been been so bad and they started it was the same time on acne and painful and so far and I bled for the first hour for about 2 weeks before. I can do the insertion and then I had a period\n",
      "\n"
     ]
    },
    {
     "name": "stderr",
     "output_type": "stream",
     "text": [
      "\r",
      " 15%|█▌        | 3/20 [00:05<00:31,  1.87s/it]"
     ]
    },
    {
     "name": "stdout",
     "output_type": "stream",
     "text": [
      "I had the Mirena for about 5 months now and I had a problem and a month I finally got the Mirena inserted and I started to get the Mirena and it was crazy but I feel like I had terrible bleeding and I don't experience this birth control until the first month. I'm a little heavy bleeding and I had h\n",
      "\n"
     ]
    },
    {
     "name": "stderr",
     "output_type": "stream",
     "text": [
      "\r",
      " 20%|██        | 4/20 [00:07<00:28,  1.80s/it]"
     ]
    },
    {
     "name": "stdout",
     "output_type": "stream",
     "text": [
      "I'm on the pill and it was so effective that I feel the doctor and I'm still in the side effects and the insertion was not taken out. It was because I was about and had a base problem and I was on it for a few months and I could actually lasted about 2 months and I was tired and the day I was 10% d\n",
      "\n"
     ]
    },
    {
     "name": "stderr",
     "output_type": "stream",
     "text": [
      "\r",
      " 25%|██▌       | 5/20 [00:08<00:26,  1.75s/it]"
     ]
    },
    {
     "name": "stdout",
     "output_type": "stream",
     "text": [
      "I have had the Mirena to stop taking the problem for about 1 month and I had a period again. I was so shortness for the bad my period and for the first period and I had a baby of a period and after insertion and I started to take the pill for years and why it was not sure I was on the pill, didn't \n",
      "\n"
     ]
    },
    {
     "name": "stderr",
     "output_type": "stream",
     "text": [
      "\r",
      " 30%|███       | 6/20 [00:10<00:23,  1.71s/it]"
     ]
    },
    {
     "name": "stdout",
     "output_type": "stream",
     "text": [
      "I had the Mirena inserted and I had no side effects and experience and started worrying every day . I had a baby for about a week and I have no problems, this was a bad and was taking this in my system and my face have had an actual form of birth control but I wanted to take this pill, I have had e\n",
      "\n"
     ]
    },
    {
     "name": "stderr",
     "output_type": "stream",
     "text": [
      "\r",
      " 35%|███▌      | 7/20 [00:12<00:22,  1.71s/it]"
     ]
    },
    {
     "name": "stdout",
     "output_type": "stream",
     "text": [
      "\"I had the Mirena inserted a few months straight and hardly had a break out and depressed and not having a period but I was on my acne before I had my second shot and that went away and I started taking this pill and I was always so much and I have no side effects on the patch and I did not have an\n",
      "\n"
     ]
    },
    {
     "name": "stderr",
     "output_type": "stream",
     "text": [
      "\r",
      " 40%|████      | 8/20 [00:13<00:20,  1.71s/it]"
     ]
    },
    {
     "name": "stdout",
     "output_type": "stream",
     "text": [
      "I didn't have a period for about the are the day of the issues with the pill experienced and this was a pregnancy to a numb. I had a big decision of the same thoughts and would thought this stopped. I have had mirena put in 3 seconds and I have had a baby for the first week of the past three months\n",
      "\n"
     ]
    },
    {
     "name": "stderr",
     "output_type": "stream",
     "text": [
      "\r",
      " 45%|████▌     | 9/20 [00:15<00:18,  1.73s/it]"
     ]
    },
    {
     "name": "stdout",
     "output_type": "stream",
     "text": [
      "I had the Mirena inserted and was always been a few months. I had to start the second one during it and this made my body and I am always wanting to start a pill a month and I would have had inserted in a week and when I was on the shot for about two weeks and I have had it inserted to a second sho\n",
      "\n"
     ]
    },
    {
     "name": "stderr",
     "output_type": "stream",
     "text": [
      "\r",
      " 50%|█████     | 10/20 [00:17<00:17,  1.77s/it]"
     ]
    },
    {
     "name": "stdout",
     "output_type": "stream",
     "text": [
      "I'm 25 yrs to have it removed as a problem. I was on the pills so I was over a year and I had it removed. I have been on this pill in my period and have been bleeding for about 6 months and it has found many sex drive. It's been the pain for the first month and the strings with my period and the in\n",
      "\n"
     ]
    },
    {
     "name": "stderr",
     "output_type": "stream",
     "text": [
      "\r",
      " 55%|█████▌    | 11/20 [00:19<00:15,  1.75s/it]"
     ]
    },
    {
     "name": "stdout",
     "output_type": "stream",
     "text": [
      "\"I have had a headache for about 2 years to have sex and stomach was a little and so far that I was pregnant and I couldn't even take the top of the patch and I was on the shot and I would not recommend this in the pill and see if it was a painful problem for me and I'm not sure if they are very ef\n",
      "\n"
     ]
    },
    {
     "name": "stderr",
     "output_type": "stream",
     "text": [
      "\r",
      " 60%|██████    | 12/20 [00:21<00:14,  1.80s/it]"
     ]
    },
    {
     "name": "stdout",
     "output_type": "stream",
     "text": [
      "\"I had the Mirena for about 2 years now. I didn't experience hormones and I was happy my body this part was a lot of discomfort now and I would be a pain and I have been a little since day 2 months ago. I was on it for about 3 months I couldn't annoying and I have to be going to get it was thinking\n",
      "\n"
     ]
    },
    {
     "name": "stderr",
     "output_type": "stream",
     "text": [
      "\r",
      " 65%|██████▌   | 13/20 [00:22<00:12,  1.79s/it]"
     ]
    },
    {
     "name": "stdout",
     "output_type": "stream",
     "text": [
      "\"I had the Mirena inserted today and I was pretty since I had to even the side effects at the patch is the pain could be able to get it placed. I was on the pill for a month and I had to worry about taking the pill and I can be a break out the strings and the depo shot after my period have not had \n",
      "\n"
     ]
    },
    {
     "name": "stderr",
     "output_type": "stream",
     "text": [
      "\r",
      " 70%|███████   | 14/20 [00:24<00:10,  1.76s/it]"
     ]
    },
    {
     "name": "stdout",
     "output_type": "stream",
     "text": [
      "I've been on the pill for about 2 years of finding how that I don't have any horrible experiences of going back to this birth control for the first three months and it was a little better for the first time. I work out the first birth control for about two months and I had a period and was terrible\n",
      "\n"
     ]
    },
    {
     "name": "stderr",
     "output_type": "stream",
     "text": [
      "\r",
      " 75%|███████▌  | 15/20 [00:26<00:08,  1.74s/it]"
     ]
    },
    {
     "name": "stdout",
     "output_type": "stream",
     "text": [
      "I have been on the pill for about 2 years and have been diagnosed me to the pill. I had a few part and have been happy to take my period. I have no diet and I have been depressed and my period was a little to a bit and I had to go and it was a break to maybe every month with the pill for a few mont\n",
      "\n"
     ]
    },
    {
     "name": "stderr",
     "output_type": "stream",
     "text": [
      "\r",
      " 80%|████████  | 16/20 [00:28<00:06,  1.73s/it]"
     ]
    },
    {
     "name": "stdout",
     "output_type": "stream",
     "text": [
      "Been on the pill for about a year and I have a period and nothing like my periods have a bad review before I had terrible people that I have had to were a bad problem and I was having a big decision and I have constant panic attacks and the doctor have had a period and so far it's like I had terrib\n",
      "\n"
     ]
    },
    {
     "name": "stderr",
     "output_type": "stream",
     "text": [
      "\r",
      " 85%|████████▌ | 17/20 [00:29<00:05,  1.70s/it]"
     ]
    },
    {
     "name": "stdout",
     "output_type": "stream",
     "text": [
      "\"I had the Mirena inserted in 2014 and I have had an am so sarpier the depo shot I wanted to get the pill and it was a little and not to be happy to put me to take the same blood that was all the side effects. I am experiencing any symptoms and I have been bleeding and had it removed. I can't be a \n",
      "\n"
     ]
    },
    {
     "name": "stderr",
     "output_type": "stream",
     "text": [
      "\r",
      " 90%|█████████ | 18/20 [00:31<00:03,  1.70s/it]"
     ]
    },
    {
     "name": "stdout",
     "output_type": "stream",
     "text": [
      "\"I was on this after every day I get the pill. I had pretty bad spotting and I have been taking it for a few months for about the time. I got the Mirena inserted about 2 months and I have been done and felt unbearable, I have a period and honestly work and stopped the thing that sometimes a break t\n",
      "\n"
     ]
    },
    {
     "name": "stderr",
     "output_type": "stream",
     "text": [
      "\r",
      " 95%|█████████▌| 19/20 [00:33<00:01,  1.70s/it]"
     ]
    },
    {
     "name": "stdout",
     "output_type": "stream",
     "text": [
      "\"I had the Mirena inserted in the depo shot, and I have been on the pill and my periods were almost a month job and I had to go away and I had to start the pill and the proceed of the patch is my period and I have no side effects and pregnancy worse. I have not had any side effects and I didn't rec\n",
      "\n"
     ]
    },
    {
     "name": "stderr",
     "output_type": "stream",
     "text": [
      "100%|██████████| 20/20 [00:34<00:00,  1.71s/it]\n"
     ]
    }
   ],
   "source": [
    "from textgenrnn import textgenrnn\n",
    "t = textgenrnn('textgenrnn_weights.hdf5')\n",
    "t.generate(20, temperature=0.5)"
   ]
  },
  {
   "cell_type": "code",
   "execution_count": null,
   "metadata": {},
   "outputs": [],
   "source": []
  }
 ],
 "metadata": {
  "kernelspec": {
   "display_name": "Python 3",
   "language": "python",
   "name": "python3"
  }
 },
 "nbformat": 4,
 "nbformat_minor": 2
}
